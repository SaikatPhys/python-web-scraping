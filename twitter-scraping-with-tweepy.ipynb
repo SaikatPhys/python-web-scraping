{
  "nbformat": 4,
  "nbformat_minor": 0,
  "metadata": {
    "colab": {
      "name": "twitter-scraping-with-tweepy.ipynb",
      "provenance": [],
      "toc_visible": true
    },
    "kernelspec": {
      "name": "python3",
      "display_name": "Python 3"
    },
    "language_info": {
      "name": "python"
    }
  },
  "cells": [
    {
      "cell_type": "markdown",
      "source": [
        "### Installs and imports"
      ],
      "metadata": {
        "id": "awXvyZLKXlLC"
      }
    },
    {
      "cell_type": "code",
      "execution_count": null,
      "metadata": {
        "colab": {
          "base_uri": "https://localhost:8080/"
        },
        "id": "dQaCeBKaV3Iy",
        "outputId": "6b517a9a-685f-45ee-bd80-3daba52a9b97"
      },
      "outputs": [
        {
          "output_type": "stream",
          "name": "stdout",
          "text": [
            "Looking in indexes: https://pypi.org/simple, https://us-python.pkg.dev/colab-wheels/public/simple/\n",
            "Requirement already satisfied: tweepy in /usr/local/lib/python3.7/dist-packages (3.10.0)\n",
            "Requirement already satisfied: requests[socks]>=2.11.1 in /usr/local/lib/python3.7/dist-packages (from tweepy) (2.23.0)\n",
            "Requirement already satisfied: requests-oauthlib>=0.7.0 in /usr/local/lib/python3.7/dist-packages (from tweepy) (1.3.1)\n",
            "Requirement already satisfied: six>=1.10.0 in /usr/local/lib/python3.7/dist-packages (from tweepy) (1.15.0)\n",
            "Requirement already satisfied: oauthlib>=3.0.0 in /usr/local/lib/python3.7/dist-packages (from requests-oauthlib>=0.7.0->tweepy) (3.2.0)\n",
            "Requirement already satisfied: chardet<4,>=3.0.2 in /usr/local/lib/python3.7/dist-packages (from requests[socks]>=2.11.1->tweepy) (3.0.4)\n",
            "Requirement already satisfied: idna<3,>=2.5 in /usr/local/lib/python3.7/dist-packages (from requests[socks]>=2.11.1->tweepy) (2.10)\n",
            "Requirement already satisfied: urllib3!=1.25.0,!=1.25.1,<1.26,>=1.21.1 in /usr/local/lib/python3.7/dist-packages (from requests[socks]>=2.11.1->tweepy) (1.24.3)\n",
            "Requirement already satisfied: certifi>=2017.4.17 in /usr/local/lib/python3.7/dist-packages (from requests[socks]>=2.11.1->tweepy) (2022.6.15)\n",
            "Requirement already satisfied: PySocks!=1.5.7,>=1.5.6 in /usr/local/lib/python3.7/dist-packages (from requests[socks]>=2.11.1->tweepy) (1.7.1)\n"
          ]
        }
      ],
      "source": [
        "!pip3 install tweepy"
      ]
    },
    {
      "cell_type": "code",
      "source": [
        "import csv\n",
        "import tweepy\n",
        "import ssl\n",
        "import time\n",
        "import pandas as pd"
      ],
      "metadata": {
        "id": "rvP9ue2kWPnZ"
      },
      "execution_count": null,
      "outputs": []
    },
    {
      "cell_type": "code",
      "source": [
        "ssl._create_default_https_context = ssl._create_unverified_context"
      ],
      "metadata": {
        "id": "mjfZqMsDWQxH"
      },
      "execution_count": null,
      "outputs": []
    },
    {
      "cell_type": "markdown",
      "source": [
        "### Declare authentication keys"
      ],
      "metadata": {
        "id": "GGXBXb-YXplg"
      }
    },
    {
      "cell_type": "code",
      "source": [
        "# Twitter authentication keys\n",
        "consumer_key = \" \"\n",
        "consumer_secret = \" \"\n",
        "access_token = \" \"\n",
        "access_token_secret = \" \""
      ],
      "metadata": {
        "id": "A0icA3YXWVL7"
      },
      "execution_count": null,
      "outputs": []
    },
    {
      "cell_type": "code",
      "source": [
        "# Authentication with Twitter\n",
        "auth = tweepy.OAuthHandler(consumer_key, consumer_secret)\n",
        "auth.set_access_token(access_token, access_token_secret)\n",
        "api = tweepy.API(auth)"
      ],
      "metadata": {
        "id": "o_hGqCFKW1yg"
      },
      "execution_count": null,
      "outputs": []
    },
    {
      "cell_type": "markdown",
      "source": [
        "### Scrape tweets from a specified user"
      ],
      "metadata": {
        "id": "oofHweNpcpQG"
      }
    },
    {
      "cell_type": "code",
      "source": [
        "my_tweets = api.user_timeline(id='larrouturou', count=15)\n",
        "for tweet in my_tweets:\n",
        "  print (tweet.text)"
      ],
      "metadata": {
        "colab": {
          "base_uri": "https://localhost:8080/"
        },
        "id": "AYlIMydJcyGf",
        "outputId": "b706c0bd-1794-4da9-f751-4850037ec507"
      },
      "execution_count": 41,
      "outputs": [
        {
          "output_type": "stream",
          "name": "stdout",
          "text": [
            "RT @Fridays4FutureU: This morning floods have killed at least three people and several others missing in eastern Uganda. Rivers Nabuyonga a…\n",
            "RT @Sudhirntv: A disaster that Mbale people never saw coming. \n",
            "\n",
            "Three people are said to have so far died following a heavy downpour which…\n",
            "RT @Sudhirntv: #MbaleDisaster https://t.co/i7spwzRDrS\n",
            "Ce qui se passe “équivaut à des incendies sous-marins, une faune et flore qui meurent comme si elles étaient brûlée… https://t.co/n2GQdYtc5F\n",
            "RT @lucas_chancel: En ce jour du dépassement planétaire, il faut rappeler que la moitié de tout ce qui a été consommé depuis janvier (en to…\n",
            "RT @audreygarric: La sécheresse est bien installée sur la France : 90 départements sur 96 font l’objet, depuis hier, de restrictions d’usag…\n",
            "RT @ZLabe: 2016, 2019, 2020, 2021, and 2022 are the five hottest months of June on record for the Northern Hemisphere 🤔\n",
            "\n",
            "[Data information:…\n",
            "RT @audreygarric: C'est sans fin. Le violent incendie « Oak fire » continue de s’étendre en Californie près de Yosemite et de ses célèbres…\n",
            "RT @fipaddict: ⛽️ Petit calcul du matin : avec une remise de 30 centimes par litre en septembre, il suffira à l’heureux propriétaire d’une…\n",
            "RT @audreygarric: La crise climatique augmente le risque de mégafeux, car elle étend la saison des incendies et les zones géographiques men…\n",
            "RT @ReclaimFinance: .@LBPAM_COM prend position contre l'expansion pétro-gazière 👏\n",
            "\n",
            "Une nouvelle politique très encourageante mais encore im…\n",
            "RT @paulisci: A Brief History of Nobody Wants to Work Anymore\n",
            "\n",
            "🧵\n",
            "RT @ElisaFerreiraEC: Joyeuse fête nationale 🇧🇪 à notre pays hôte 🇪🇺 et à tous mes amis belges.\n",
            "\n",
            "Célébrer l’unité de la Belgique dans une Eu…\n",
            "RT @TheoLaubry: Joe Biden pourrait déclarer l’état d’urgence climatique cette semaine. Objectif: agir sans l’accord du Congrès (qui bloque…\n",
            "RT @TimoVilars: Odeur de brûlé à Paris, à 600 km des incendies en Gironde : incroyable mais vrai, les fumées ont traversé tout le pays et p…\n"
          ]
        }
      ]
    },
    {
      "cell_type": "markdown",
      "source": [
        " Find the screen name of the account that posted the tweet you want to analyze. Place it right below. This will retrieve ths first two hundred off tweets that account. \n"
      ],
      "metadata": {
        "id": "CNwT0tG4iXZw"
      }
    },
    {
      "cell_type": "markdown",
      "source": [
        "### Scrape tweets from multiple handles"
      ],
      "metadata": {
        "id": "c-pCEvlNjd1G"
      }
    },
    {
      "cell_type": "code",
      "source": [
        "names = [\"larrouturou\"]  # placeholder screen name for the handle you want to retrieve tweets from\n",
        "# YOU CAN QUERY MULTIPLE HANDLES, BUT REMEMBER TO HANDLE TWITTER'S TIMEOUT/LIMIT CONSTRAINTS"
      ],
      "metadata": {
        "id": "dH_uSAyAiHjF"
      },
      "execution_count": null,
      "outputs": []
    },
    {
      "cell_type": "code",
      "source": [
        "\"\"\" Retrieves the most recent 200-ish tweets from a  list of given screen names\n",
        "    Returns a data frame of the tweets with [id, screen_name, text, timestamp]\n",
        "\"\"\"\n",
        "def get_new_tweets(names):\n",
        "  print(\"Retrieving tweets\")\n",
        "  corpus = []                                                                                        \n",
        "  for name in names:\n",
        "    tweets = api.user_timeline(name, include_rts=False, count=200, tweet_mode=\"extended\")          \n",
        "    time.sleep(4)\n",
        "    corpus.extend(tweets)                                                                          \n",
        "  data = [[tweet.id_str, tweet.user.screen_name, tweet.full_text, tweet.created_at] for tweet in corpus]\n",
        "  tweets = pd.DataFrame(data, columns=['tweet_id', 'screen_name', 'text', 'timestamp'])      \n",
        "            \n",
        "  return tweets"
      ],
      "metadata": {
        "id": "3_Er1JoRiWVL"
      },
      "execution_count": null,
      "outputs": []
    },
    {
      "cell_type": "code",
      "source": [
        "tweets = get_new_tweets (names)"
      ],
      "metadata": {
        "colab": {
          "base_uri": "https://localhost:8080/"
        },
        "id": "jC3iVLO0jIRE",
        "outputId": "b614a154-85ca-49bd-f973-348181967593"
      },
      "execution_count": null,
      "outputs": [
        {
          "output_type": "stream",
          "name": "stdout",
          "text": [
            "Retrieving tweets\n"
          ]
        }
      ]
    },
    {
      "cell_type": "code",
      "source": [
        "tweets.head()"
      ],
      "metadata": {
        "colab": {
          "base_uri": "https://localhost:8080/",
          "height": 204
        },
        "id": "DZS9Yk-M-tQ_",
        "outputId": "7af16211-9a1d-4b44-8ef4-ebdacc39500a"
      },
      "execution_count": null,
      "outputs": [
        {
          "output_type": "execute_result",
          "data": {
            "text/plain": [
              "              tweet_id  screen_name  \\\n",
              "0  1552978165756215296  larrouturou   \n",
              "1  1548951688555397120  larrouturou   \n",
              "2  1548949157473357834  larrouturou   \n",
              "3  1548948519909728257  larrouturou   \n",
              "4  1548377536404393986  larrouturou   \n",
              "\n",
              "                                                text           timestamp  \n",
              "0  Ce qui se passe “équivaut à des incendies sous... 2022-07-29 11:23:42  \n",
              "1  @mbrehin On le fait tous les jours! 💪 @Fresque... 2022-07-18 08:43:55  \n",
              "2  L'étude en question : https://t.co/itwSxY1BNN\\... 2022-07-18 08:33:51  \n",
              "3  Projections de chercheurs français en 2017: ce... 2022-07-18 08:31:19  \n",
              "4  L’été dernier, c’était les pluies torrentielle... 2022-07-16 18:42:26  "
            ],
            "text/html": [
              "\n",
              "  <div id=\"df-bbf85ab8-f47f-434b-86eb-6f4918ed96b1\">\n",
              "    <div class=\"colab-df-container\">\n",
              "      <div>\n",
              "<style scoped>\n",
              "    .dataframe tbody tr th:only-of-type {\n",
              "        vertical-align: middle;\n",
              "    }\n",
              "\n",
              "    .dataframe tbody tr th {\n",
              "        vertical-align: top;\n",
              "    }\n",
              "\n",
              "    .dataframe thead th {\n",
              "        text-align: right;\n",
              "    }\n",
              "</style>\n",
              "<table border=\"1\" class=\"dataframe\">\n",
              "  <thead>\n",
              "    <tr style=\"text-align: right;\">\n",
              "      <th></th>\n",
              "      <th>tweet_id</th>\n",
              "      <th>screen_name</th>\n",
              "      <th>text</th>\n",
              "      <th>timestamp</th>\n",
              "    </tr>\n",
              "  </thead>\n",
              "  <tbody>\n",
              "    <tr>\n",
              "      <th>0</th>\n",
              "      <td>1552978165756215296</td>\n",
              "      <td>larrouturou</td>\n",
              "      <td>Ce qui se passe “équivaut à des incendies sous...</td>\n",
              "      <td>2022-07-29 11:23:42</td>\n",
              "    </tr>\n",
              "    <tr>\n",
              "      <th>1</th>\n",
              "      <td>1548951688555397120</td>\n",
              "      <td>larrouturou</td>\n",
              "      <td>@mbrehin On le fait tous les jours! 💪 @Fresque...</td>\n",
              "      <td>2022-07-18 08:43:55</td>\n",
              "    </tr>\n",
              "    <tr>\n",
              "      <th>2</th>\n",
              "      <td>1548949157473357834</td>\n",
              "      <td>larrouturou</td>\n",
              "      <td>L'étude en question : https://t.co/itwSxY1BNN\\...</td>\n",
              "      <td>2022-07-18 08:33:51</td>\n",
              "    </tr>\n",
              "    <tr>\n",
              "      <th>3</th>\n",
              "      <td>1548948519909728257</td>\n",
              "      <td>larrouturou</td>\n",
              "      <td>Projections de chercheurs français en 2017: ce...</td>\n",
              "      <td>2022-07-18 08:31:19</td>\n",
              "    </tr>\n",
              "    <tr>\n",
              "      <th>4</th>\n",
              "      <td>1548377536404393986</td>\n",
              "      <td>larrouturou</td>\n",
              "      <td>L’été dernier, c’était les pluies torrentielle...</td>\n",
              "      <td>2022-07-16 18:42:26</td>\n",
              "    </tr>\n",
              "  </tbody>\n",
              "</table>\n",
              "</div>\n",
              "      <button class=\"colab-df-convert\" onclick=\"convertToInteractive('df-bbf85ab8-f47f-434b-86eb-6f4918ed96b1')\"\n",
              "              title=\"Convert this dataframe to an interactive table.\"\n",
              "              style=\"display:none;\">\n",
              "        \n",
              "  <svg xmlns=\"http://www.w3.org/2000/svg\" height=\"24px\"viewBox=\"0 0 24 24\"\n",
              "       width=\"24px\">\n",
              "    <path d=\"M0 0h24v24H0V0z\" fill=\"none\"/>\n",
              "    <path d=\"M18.56 5.44l.94 2.06.94-2.06 2.06-.94-2.06-.94-.94-2.06-.94 2.06-2.06.94zm-11 1L8.5 8.5l.94-2.06 2.06-.94-2.06-.94L8.5 2.5l-.94 2.06-2.06.94zm10 10l.94 2.06.94-2.06 2.06-.94-2.06-.94-.94-2.06-.94 2.06-2.06.94z\"/><path d=\"M17.41 7.96l-1.37-1.37c-.4-.4-.92-.59-1.43-.59-.52 0-1.04.2-1.43.59L10.3 9.45l-7.72 7.72c-.78.78-.78 2.05 0 2.83L4 21.41c.39.39.9.59 1.41.59.51 0 1.02-.2 1.41-.59l7.78-7.78 2.81-2.81c.8-.78.8-2.07 0-2.86zM5.41 20L4 18.59l7.72-7.72 1.47 1.35L5.41 20z\"/>\n",
              "  </svg>\n",
              "      </button>\n",
              "      \n",
              "  <style>\n",
              "    .colab-df-container {\n",
              "      display:flex;\n",
              "      flex-wrap:wrap;\n",
              "      gap: 12px;\n",
              "    }\n",
              "\n",
              "    .colab-df-convert {\n",
              "      background-color: #E8F0FE;\n",
              "      border: none;\n",
              "      border-radius: 50%;\n",
              "      cursor: pointer;\n",
              "      display: none;\n",
              "      fill: #1967D2;\n",
              "      height: 32px;\n",
              "      padding: 0 0 0 0;\n",
              "      width: 32px;\n",
              "    }\n",
              "\n",
              "    .colab-df-convert:hover {\n",
              "      background-color: #E2EBFA;\n",
              "      box-shadow: 0px 1px 2px rgba(60, 64, 67, 0.3), 0px 1px 3px 1px rgba(60, 64, 67, 0.15);\n",
              "      fill: #174EA6;\n",
              "    }\n",
              "\n",
              "    [theme=dark] .colab-df-convert {\n",
              "      background-color: #3B4455;\n",
              "      fill: #D2E3FC;\n",
              "    }\n",
              "\n",
              "    [theme=dark] .colab-df-convert:hover {\n",
              "      background-color: #434B5C;\n",
              "      box-shadow: 0px 1px 3px 1px rgba(0, 0, 0, 0.15);\n",
              "      filter: drop-shadow(0px 1px 2px rgba(0, 0, 0, 0.3));\n",
              "      fill: #FFFFFF;\n",
              "    }\n",
              "  </style>\n",
              "\n",
              "      <script>\n",
              "        const buttonEl =\n",
              "          document.querySelector('#df-bbf85ab8-f47f-434b-86eb-6f4918ed96b1 button.colab-df-convert');\n",
              "        buttonEl.style.display =\n",
              "          google.colab.kernel.accessAllowed ? 'block' : 'none';\n",
              "\n",
              "        async function convertToInteractive(key) {\n",
              "          const element = document.querySelector('#df-bbf85ab8-f47f-434b-86eb-6f4918ed96b1');\n",
              "          const dataTable =\n",
              "            await google.colab.kernel.invokeFunction('convertToInteractive',\n",
              "                                                     [key], {});\n",
              "          if (!dataTable) return;\n",
              "\n",
              "          const docLinkHtml = 'Like what you see? Visit the ' +\n",
              "            '<a target=\"_blank\" href=https://colab.research.google.com/notebooks/data_table.ipynb>data table notebook</a>'\n",
              "            + ' to learn more about interactive tables.';\n",
              "          element.innerHTML = '';\n",
              "          dataTable['output_type'] = 'display_data';\n",
              "          await google.colab.output.renderOutput(dataTable, element);\n",
              "          const docLink = document.createElement('div');\n",
              "          docLink.innerHTML = docLinkHtml;\n",
              "          element.appendChild(docLink);\n",
              "        }\n",
              "      </script>\n",
              "    </div>\n",
              "  </div>\n",
              "  "
            ]
          },
          "metadata": {},
          "execution_count": 13
        }
      ]
    },
    {
      "cell_type": "markdown",
      "source": [
        "### Scrape replies to a status"
      ],
      "metadata": {
        "id": "16jWer3wIazg"
      }
    },
    {
      "cell_type": "markdown",
      "source": [
        "For definition of various Tweet objects see [here](https://developer.twitter.com/en/docs/twitter-api/v1/data-dictionary/object-model/tweet)."
      ],
      "metadata": {
        "id": "lEyWSqEWQsCR"
      }
    },
    {
      "cell_type": "code",
      "source": [
        "def get_replies (user_name, tweet_id):\n",
        "  replies = tweepy.Cursor(api.search, q='to:{}'.format(user_name),\n",
        "                                since_id=tweet_id, tweet_mode='extended').items(5000)\n",
        "  while True:\n",
        "    try:\n",
        "      reply = replies.next()\n",
        "      if not hasattr(reply, 'in_reply_to_status_id_str'):\n",
        "        continue\n",
        "      if reply.in_reply_to_status_id==tweet_id:\n",
        "        logging.info(\"reply of tweet:{}\".format(reply.full_text))\n",
        "\n",
        "    except tweepy.RateLimitError as e:\n",
        "      logging.error(\"Twitter api rate limit reached\".format(e))\n",
        "      time.sleep(60)\n",
        "      continue\n",
        "\n",
        "    except tweepy.TweepError as e:\n",
        "      logging.error(\"Tweepy error occured:{}\".format(e))\n",
        "      break\n",
        "\n",
        "    except StopIteration:\n",
        "      break\n",
        "\n",
        "    except Exception as e:\n",
        "      logger.error(\"Failed while fetching replies {}\".format(e))\n",
        "      break\n",
        "  \n",
        "  return reply"
      ],
      "metadata": {
        "id": "I2ZG9RgXG0kL"
      },
      "execution_count": 51,
      "outputs": []
    },
    {
      "cell_type": "code",
      "source": [
        "username =\"larrouturou\"\n",
        "tweet_id = \"1541498855061164034\"\n",
        "\n",
        "result = get_replies (user_name=username, tweet_id=tweet_id)"
      ],
      "metadata": {
        "id": "Dn3x1_WOHUKK"
      },
      "execution_count": 52,
      "outputs": []
    },
    {
      "cell_type": "code",
      "source": [
        "print (result)"
      ],
      "metadata": {
        "colab": {
          "base_uri": "https://localhost:8080/"
        },
        "id": "Am_i8FHNLTcq",
        "outputId": "e8eae2ee-c56d-408a-9cd1-8a0420993af4"
      },
      "execution_count": 53,
      "outputs": [
        {
          "output_type": "stream",
          "name": "stdout",
          "text": [
            "Status(_api=<tweepy.api.API object at 0x7fa2d10cdb50>, _json={'created_at': 'Fri Jul 29 11:42:49 +0000 2022', 'id': 1552982976312627200, 'id_str': '1552982976312627200', 'full_text': '@larrouturou Titre trop équivoque, non? Espèces, méditerranée, remplacement?', 'truncated': False, 'display_text_range': [13, 76], 'entities': {'hashtags': [], 'symbols': [], 'user_mentions': [{'screen_name': 'larrouturou', 'name': 'Pierre Larrouturou', 'id': 18578222, 'id_str': '18578222', 'indices': [0, 12]}], 'urls': []}, 'metadata': {'iso_language_code': 'fr', 'result_type': 'recent'}, 'source': '<a href=\"http://twitter.com/#!/download/ipad\" rel=\"nofollow\">Twitter for iPad</a>', 'in_reply_to_status_id': 1552978165756215296, 'in_reply_to_status_id_str': '1552978165756215296', 'in_reply_to_user_id': 18578222, 'in_reply_to_user_id_str': '18578222', 'in_reply_to_screen_name': 'larrouturou', 'user': {'id': 37893415, 'id_str': '37893415', 'name': 'Daniel ROGER🇺🇦', 'screen_name': 'DanPRAUDROGER', 'location': 'France', 'description': '« See you down the road ». Nomadland. « You sent your hearths to die alone in foreign nations ».', 'url': None, 'entities': {'description': {'urls': []}}, 'protected': False, 'followers_count': 75, 'friends_count': 652, 'listed_count': 0, 'created_at': 'Tue May 05 09:50:16 +0000 2009', 'favourites_count': 3461, 'utc_offset': None, 'time_zone': None, 'geo_enabled': False, 'verified': False, 'statuses_count': 4380, 'lang': None, 'contributors_enabled': False, 'is_translator': False, 'is_translation_enabled': False, 'profile_background_color': '000000', 'profile_background_image_url': 'http://abs.twimg.com/images/themes/theme1/bg.png', 'profile_background_image_url_https': 'https://abs.twimg.com/images/themes/theme1/bg.png', 'profile_background_tile': False, 'profile_image_url': 'http://pbs.twimg.com/profile_images/1523351098865692672/-rDjG9a8_normal.jpg', 'profile_image_url_https': 'https://pbs.twimg.com/profile_images/1523351098865692672/-rDjG9a8_normal.jpg', 'profile_banner_url': 'https://pbs.twimg.com/profile_banners/37893415/1652030646', 'profile_link_color': 'FF691F', 'profile_sidebar_border_color': '000000', 'profile_sidebar_fill_color': '000000', 'profile_text_color': '000000', 'profile_use_background_image': False, 'has_extended_profile': True, 'default_profile': False, 'default_profile_image': False, 'following': False, 'follow_request_sent': False, 'notifications': False, 'translator_type': 'none', 'withheld_in_countries': []}, 'geo': None, 'coordinates': None, 'place': None, 'contributors': None, 'is_quote_status': False, 'retweet_count': 0, 'favorite_count': 0, 'favorited': False, 'retweeted': False, 'lang': 'fr'}, created_at=datetime.datetime(2022, 7, 29, 11, 42, 49), id=1552982976312627200, id_str='1552982976312627200', full_text='@larrouturou Titre trop équivoque, non? Espèces, méditerranée, remplacement?', truncated=False, display_text_range=[13, 76], entities={'hashtags': [], 'symbols': [], 'user_mentions': [{'screen_name': 'larrouturou', 'name': 'Pierre Larrouturou', 'id': 18578222, 'id_str': '18578222', 'indices': [0, 12]}], 'urls': []}, metadata={'iso_language_code': 'fr', 'result_type': 'recent'}, source='Twitter for iPad', source_url='http://twitter.com/#!/download/ipad', in_reply_to_status_id=1552978165756215296, in_reply_to_status_id_str='1552978165756215296', in_reply_to_user_id=18578222, in_reply_to_user_id_str='18578222', in_reply_to_screen_name='larrouturou', author=User(_api=<tweepy.api.API object at 0x7fa2d10cdb50>, _json={'id': 37893415, 'id_str': '37893415', 'name': 'Daniel ROGER🇺🇦', 'screen_name': 'DanPRAUDROGER', 'location': 'France', 'description': '« See you down the road ». Nomadland. « You sent your hearths to die alone in foreign nations ».', 'url': None, 'entities': {'description': {'urls': []}}, 'protected': False, 'followers_count': 75, 'friends_count': 652, 'listed_count': 0, 'created_at': 'Tue May 05 09:50:16 +0000 2009', 'favourites_count': 3461, 'utc_offset': None, 'time_zone': None, 'geo_enabled': False, 'verified': False, 'statuses_count': 4380, 'lang': None, 'contributors_enabled': False, 'is_translator': False, 'is_translation_enabled': False, 'profile_background_color': '000000', 'profile_background_image_url': 'http://abs.twimg.com/images/themes/theme1/bg.png', 'profile_background_image_url_https': 'https://abs.twimg.com/images/themes/theme1/bg.png', 'profile_background_tile': False, 'profile_image_url': 'http://pbs.twimg.com/profile_images/1523351098865692672/-rDjG9a8_normal.jpg', 'profile_image_url_https': 'https://pbs.twimg.com/profile_images/1523351098865692672/-rDjG9a8_normal.jpg', 'profile_banner_url': 'https://pbs.twimg.com/profile_banners/37893415/1652030646', 'profile_link_color': 'FF691F', 'profile_sidebar_border_color': '000000', 'profile_sidebar_fill_color': '000000', 'profile_text_color': '000000', 'profile_use_background_image': False, 'has_extended_profile': True, 'default_profile': False, 'default_profile_image': False, 'following': False, 'follow_request_sent': False, 'notifications': False, 'translator_type': 'none', 'withheld_in_countries': []}, id=37893415, id_str='37893415', name='Daniel ROGER🇺🇦', screen_name='DanPRAUDROGER', location='France', description='« See you down the road ». Nomadland. « You sent your hearths to die alone in foreign nations ».', url=None, entities={'description': {'urls': []}}, protected=False, followers_count=75, friends_count=652, listed_count=0, created_at=datetime.datetime(2009, 5, 5, 9, 50, 16), favourites_count=3461, utc_offset=None, time_zone=None, geo_enabled=False, verified=False, statuses_count=4380, lang=None, contributors_enabled=False, is_translator=False, is_translation_enabled=False, profile_background_color='000000', profile_background_image_url='http://abs.twimg.com/images/themes/theme1/bg.png', profile_background_image_url_https='https://abs.twimg.com/images/themes/theme1/bg.png', profile_background_tile=False, profile_image_url='http://pbs.twimg.com/profile_images/1523351098865692672/-rDjG9a8_normal.jpg', profile_image_url_https='https://pbs.twimg.com/profile_images/1523351098865692672/-rDjG9a8_normal.jpg', profile_banner_url='https://pbs.twimg.com/profile_banners/37893415/1652030646', profile_link_color='FF691F', profile_sidebar_border_color='000000', profile_sidebar_fill_color='000000', profile_text_color='000000', profile_use_background_image=False, has_extended_profile=True, default_profile=False, default_profile_image=False, following=False, follow_request_sent=False, notifications=False, translator_type='none', withheld_in_countries=[]), user=User(_api=<tweepy.api.API object at 0x7fa2d10cdb50>, _json={'id': 37893415, 'id_str': '37893415', 'name': 'Daniel ROGER🇺🇦', 'screen_name': 'DanPRAUDROGER', 'location': 'France', 'description': '« See you down the road ». Nomadland. « You sent your hearths to die alone in foreign nations ».', 'url': None, 'entities': {'description': {'urls': []}}, 'protected': False, 'followers_count': 75, 'friends_count': 652, 'listed_count': 0, 'created_at': 'Tue May 05 09:50:16 +0000 2009', 'favourites_count': 3461, 'utc_offset': None, 'time_zone': None, 'geo_enabled': False, 'verified': False, 'statuses_count': 4380, 'lang': None, 'contributors_enabled': False, 'is_translator': False, 'is_translation_enabled': False, 'profile_background_color': '000000', 'profile_background_image_url': 'http://abs.twimg.com/images/themes/theme1/bg.png', 'profile_background_image_url_https': 'https://abs.twimg.com/images/themes/theme1/bg.png', 'profile_background_tile': False, 'profile_image_url': 'http://pbs.twimg.com/profile_images/1523351098865692672/-rDjG9a8_normal.jpg', 'profile_image_url_https': 'https://pbs.twimg.com/profile_images/1523351098865692672/-rDjG9a8_normal.jpg', 'profile_banner_url': 'https://pbs.twimg.com/profile_banners/37893415/1652030646', 'profile_link_color': 'FF691F', 'profile_sidebar_border_color': '000000', 'profile_sidebar_fill_color': '000000', 'profile_text_color': '000000', 'profile_use_background_image': False, 'has_extended_profile': True, 'default_profile': False, 'default_profile_image': False, 'following': False, 'follow_request_sent': False, 'notifications': False, 'translator_type': 'none', 'withheld_in_countries': []}, id=37893415, id_str='37893415', name='Daniel ROGER🇺🇦', screen_name='DanPRAUDROGER', location='France', description='« See you down the road ». Nomadland. « You sent your hearths to die alone in foreign nations ».', url=None, entities={'description': {'urls': []}}, protected=False, followers_count=75, friends_count=652, listed_count=0, created_at=datetime.datetime(2009, 5, 5, 9, 50, 16), favourites_count=3461, utc_offset=None, time_zone=None, geo_enabled=False, verified=False, statuses_count=4380, lang=None, contributors_enabled=False, is_translator=False, is_translation_enabled=False, profile_background_color='000000', profile_background_image_url='http://abs.twimg.com/images/themes/theme1/bg.png', profile_background_image_url_https='https://abs.twimg.com/images/themes/theme1/bg.png', profile_background_tile=False, profile_image_url='http://pbs.twimg.com/profile_images/1523351098865692672/-rDjG9a8_normal.jpg', profile_image_url_https='https://pbs.twimg.com/profile_images/1523351098865692672/-rDjG9a8_normal.jpg', profile_banner_url='https://pbs.twimg.com/profile_banners/37893415/1652030646', profile_link_color='FF691F', profile_sidebar_border_color='000000', profile_sidebar_fill_color='000000', profile_text_color='000000', profile_use_background_image=False, has_extended_profile=True, default_profile=False, default_profile_image=False, following=False, follow_request_sent=False, notifications=False, translator_type='none', withheld_in_countries=[]), geo=None, coordinates=None, place=None, contributors=None, is_quote_status=False, retweet_count=0, favorite_count=0, favorited=False, retweeted=False, lang='fr')\n"
          ]
        }
      ]
    }
  ]
}